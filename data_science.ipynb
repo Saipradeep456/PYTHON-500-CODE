{
  "nbformat": 4,
  "nbformat_minor": 0,
  "metadata": {
    "colab": {
      "provenance": [],
      "toc_visible": true,
      "authorship_tag": "ABX9TyPdALaOKDufGSAImz5lS3a2",
      "include_colab_link": true
    },
    "kernelspec": {
      "name": "python3",
      "display_name": "Python 3"
    },
    "language_info": {
      "name": "python"
    }
  },
  "cells": [
    {
      "cell_type": "markdown",
      "metadata": {
        "id": "view-in-github",
        "colab_type": "text"
      },
      "source": [
        "<a href=\"https://colab.research.google.com/github/Saipradeep456/PYTHON-500-CODE/blob/main/data_science.ipynb\" target=\"_parent\"><img src=\"https://colab.research.google.com/assets/colab-badge.svg\" alt=\"Open In Colab\"/></a>"
      ]
    },
    {
      "cell_type": "code",
      "execution_count": 32,
      "metadata": {
        "id": "AWk4nOIhCcly"
      },
      "outputs": [],
      "source": [
        "def addition():\n",
        "  a = 10\n",
        "  b = 20\n",
        "  c = 30\n",
        "  print(a+b+c+50)\n",
        "  return a+b+c\n",
        ""
      ]
    },
    {
      "cell_type": "code",
      "source": [
        "variable = addition()"
      ],
      "metadata": {
        "colab": {
          "base_uri": "https://localhost:8080/"
        },
        "id": "23SQyMJMHMD1",
        "outputId": "3ff9cd1f-11fe-435b-eb0b-4c94b2343d4a"
      },
      "execution_count": 27,
      "outputs": [
        {
          "output_type": "stream",
          "name": "stdout",
          "text": [
            "110\n"
          ]
        }
      ]
    },
    {
      "cell_type": "code",
      "source": [
        "variable"
      ],
      "metadata": {
        "colab": {
          "base_uri": "https://localhost:8080/"
        },
        "id": "VJWzh2PfHzkQ",
        "outputId": "8c73c845-3d64-4cab-84a6-98661f6d75de"
      },
      "execution_count": 29,
      "outputs": [
        {
          "output_type": "execute_result",
          "data": {
            "text/plain": [
              "60"
            ]
          },
          "metadata": {},
          "execution_count": 29
        }
      ]
    },
    {
      "cell_type": "code",
      "source": [
        "def addition(a,b):\n",
        "  print(a+b)\n",
        "  return a+b"
      ],
      "metadata": {
        "id": "cUfalOtuLMBH"
      },
      "execution_count": 43,
      "outputs": []
    },
    {
      "cell_type": "code",
      "source": [
        "poll = addition(3,7)"
      ],
      "metadata": {
        "colab": {
          "base_uri": "https://localhost:8080/"
        },
        "id": "fP2Q4Rb3Lk65",
        "outputId": "56483c43-d7da-428c-d750-0d41f3413563"
      },
      "execution_count": 45,
      "outputs": [
        {
          "output_type": "stream",
          "name": "stdout",
          "text": [
            "10\n"
          ]
        }
      ]
    },
    {
      "cell_type": "code",
      "source": [
        "poll"
      ],
      "metadata": {
        "colab": {
          "base_uri": "https://localhost:8080/"
        },
        "id": "bbHRCg1TN1-f",
        "outputId": "be5e5069-3b2f-4faa-d789-916f3f847c72"
      },
      "execution_count": 47,
      "outputs": [
        {
          "output_type": "execute_result",
          "data": {
            "text/plain": [
              "10"
            ]
          },
          "metadata": {},
          "execution_count": 47
        }
      ]
    },
    {
      "cell_type": "code",
      "source": [
        "def addition(a,b):\n",
        "\n",
        "  print(a+b)\n",
        "  b = 20\n",
        "  return a+b"
      ],
      "metadata": {
        "id": "tZOYTHFvPJAn"
      },
      "execution_count": 73,
      "outputs": []
    },
    {
      "cell_type": "code",
      "source": [
        "addition(3,1)"
      ],
      "metadata": {
        "colab": {
          "base_uri": "https://localhost:8080/"
        },
        "id": "qrxVW3JnPd2T",
        "outputId": "8867ed7a-56db-4faa-a7e1-17deb833e1bc"
      },
      "execution_count": 74,
      "outputs": [
        {
          "output_type": "stream",
          "name": "stdout",
          "text": [
            "4\n"
          ]
        },
        {
          "output_type": "execute_result",
          "data": {
            "text/plain": [
              "23"
            ]
          },
          "metadata": {},
          "execution_count": 74
        }
      ]
    },
    {
      "cell_type": "code",
      "source": [
        "def addition(a,b=10):  # default value\n",
        "  print(a+b)\n",
        "  return a+b"
      ],
      "metadata": {
        "id": "3iu797IlRMT4"
      },
      "execution_count": 68,
      "outputs": []
    },
    {
      "cell_type": "code",
      "source": [
        "addition(9)"
      ],
      "metadata": {
        "colab": {
          "base_uri": "https://localhost:8080/"
        },
        "id": "dyodgiw1RUvD",
        "outputId": "840e14de-0b99-46fa-b065-b233c3296b0f"
      },
      "execution_count": 69,
      "outputs": [
        {
          "output_type": "stream",
          "name": "stdout",
          "text": [
            "19\n"
          ]
        },
        {
          "output_type": "execute_result",
          "data": {
            "text/plain": [
              "19"
            ]
          },
          "metadata": {},
          "execution_count": 69
        }
      ]
    },
    {
      "cell_type": "code",
      "source": [
        "def popitem(a=-1):\n",
        "  codes\n"
      ],
      "metadata": {
        "id": "GdrK4NstSE_0"
      },
      "execution_count": 59,
      "outputs": []
    },
    {
      "cell_type": "code",
      "source": [
        "#popitem(9)"
      ],
      "metadata": {
        "collapsed": true,
        "id": "0iSP1gGrSKdV"
      },
      "execution_count": 91,
      "outputs": []
    },
    {
      "cell_type": "code",
      "source": [
        "#function :- takes the parameter\n",
        "#function :-  doesnot takes up  the parameter\n",
        "\n",
        "\n",
        "\n",
        "def age(age_value):\n",
        "  if age_value > 60:\n",
        "    #print(\"old\")\n",
        "    return \"old\"\n",
        "  elif age_value >= 30 and  age_value <= 60 :\n",
        "    #print(\" middle age\")\n",
        "    return \"middle age\"\n",
        "  elif age_value >= 19 and age_value <= 30 :\n",
        "    #print(\"young\")\n",
        "    return \"young\"\n",
        "  elif  13 < age_value <= 18:\n",
        "   # print(\"teen age \")\n",
        "   return \"teen age\"\n",
        "\n",
        "  else:\n",
        "    #print(\"kid\")\n",
        "    return \"kid\"\n"
      ],
      "metadata": {
        "id": "AdQRLcYmTw9J"
      },
      "execution_count": 89,
      "outputs": []
    },
    {
      "cell_type": "code",
      "source": [
        "num = int(input(\"enter your age\"))\n",
        "age(num)"
      ],
      "metadata": {
        "colab": {
          "base_uri": "https://localhost:8080/",
          "height": 53
        },
        "id": "XrXi91smVHPz",
        "outputId": "07559c71-125a-49b2-cd95-26ca1d68a865"
      },
      "execution_count": 90,
      "outputs": [
        {
          "name": "stdout",
          "output_type": "stream",
          "text": [
            "enter your age23\n"
          ]
        },
        {
          "output_type": "execute_result",
          "data": {
            "text/plain": [
              "'young'"
            ],
            "application/vnd.google.colaboratory.intrinsic+json": {
              "type": "string"
            }
          },
          "metadata": {},
          "execution_count": 90
        }
      ]
    },
    {
      "cell_type": "code",
      "source": [
        "def advanced(a,b,c,d):  # BODMAS :- BRACKET OF DIVI, MULT,ADDITION., SUBSTRACTION\n",
        "  return a+b-c*d"
      ],
      "metadata": {
        "id": "SXG0fPe3XQ7g"
      },
      "execution_count": 92,
      "outputs": []
    },
    {
      "cell_type": "code",
      "source": [
        "advanced(1,2,3,4)"
      ],
      "metadata": {
        "colab": {
          "base_uri": "https://localhost:8080/"
        },
        "id": "esJ6HI57YO9H",
        "outputId": "cb2f6b87-f366-43d8-bfc0-fa2963d23913"
      },
      "execution_count": 93,
      "outputs": [
        {
          "output_type": "execute_result",
          "data": {
            "text/plain": [
              "-9"
            ]
          },
          "metadata": {},
          "execution_count": 93
        }
      ]
    },
    {
      "cell_type": "code",
      "source": [
        "def advanced(*args):  # ARGS  it is only tuple and see the exampple 115 code cell i only give a,b,c,d, the add only that number after remaining number are convert the bracket meaning it is  a tuple.\n",
        "  lis = list(args)\n",
        "\n",
        "  return sum(lis)"
      ],
      "metadata": {
        "id": "CngEEEOrbnJ5"
      },
      "execution_count": 106,
      "outputs": []
    },
    {
      "cell_type": "code",
      "source": [
        "add = advanced(1,2,34,5,6,7,8,9)"
      ],
      "metadata": {
        "id": "BiiALd0TbtWz"
      },
      "execution_count": 107,
      "outputs": []
    },
    {
      "cell_type": "code",
      "source": [
        "add"
      ],
      "metadata": {
        "colab": {
          "base_uri": "https://localhost:8080/"
        },
        "id": "-O7ljcW_c_1V",
        "outputId": "f30cdf5a-c3b6-4b1e-9f6a-8504ce50d0de"
      },
      "execution_count": 108,
      "outputs": [
        {
          "output_type": "execute_result",
          "data": {
            "text/plain": [
              "72"
            ]
          },
          "metadata": {},
          "execution_count": 108
        }
      ]
    },
    {
      "cell_type": "code",
      "source": [
        "def advanced(a,b,c,d,*args):\n",
        "  print(a,b,c,d,args)"
      ],
      "metadata": {
        "id": "v53Es9wtdpUS"
      },
      "execution_count": 114,
      "outputs": []
    },
    {
      "cell_type": "code",
      "source": [
        "advanced(1,23,4,5,6,5,6,79,9876,23456)"
      ],
      "metadata": {
        "colab": {
          "base_uri": "https://localhost:8080/"
        },
        "id": "_9cP0pWXdw_7",
        "outputId": "0a791e29-52ce-4e04-c9a1-934894db83cf"
      },
      "execution_count": 115,
      "outputs": [
        {
          "output_type": "stream",
          "name": "stdout",
          "text": [
            "1 23 4 5 (6, 5, 6, 79, 9876, 23456)\n"
          ]
        }
      ]
    },
    {
      "cell_type": "code",
      "source": [
        "def advanced(**kwargs):\n",
        "  return kwargs\n",
        ""
      ],
      "metadata": {
        "id": "r6t3wLJdiCtL"
      },
      "execution_count": 131,
      "outputs": []
    },
    {
      "cell_type": "code",
      "source": [
        "advanced(fruit = \"apple\", movie = \"lovereddy\")"
      ],
      "metadata": {
        "colab": {
          "base_uri": "https://localhost:8080/"
        },
        "id": "CewZJ5faiNlz",
        "outputId": "6f689fdb-3b1c-4d7c-97c1-d79656afe84c"
      },
      "execution_count": 132,
      "outputs": [
        {
          "output_type": "execute_result",
          "data": {
            "text/plain": [
              "{'fruit': 'apple', 'movie': 'lovereddy'}"
            ]
          },
          "metadata": {},
          "execution_count": 132
        }
      ]
    },
    {
      "cell_type": "code",
      "source": [
        "def advanced(**kwargs):  ## KWARGS  it is only using dictionary  for example using kwargs that output is convert the dictionary format like u see the 138 code cell.\n",
        "  kwargs[\"fruits\"] = \"mongoes\"\n",
        "  return (kwargs)"
      ],
      "metadata": {
        "id": "G4Edu9Hmixfh"
      },
      "execution_count": 137,
      "outputs": []
    },
    {
      "cell_type": "code",
      "source": [
        "advanced(fruits = \"apple\", movie = \"lovereddy\")"
      ],
      "metadata": {
        "colab": {
          "base_uri": "https://localhost:8080/"
        },
        "id": "jjUQI370jCjE",
        "outputId": "ff35530b-281f-4093-aa7a-1ce3ccbed6b1"
      },
      "execution_count": 138,
      "outputs": [
        {
          "output_type": "execute_result",
          "data": {
            "text/plain": [
              "{'fruits': 'mongoes', 'movie': 'lovereddy'}"
            ]
          },
          "metadata": {},
          "execution_count": 138
        }
      ]
    },
    {
      "cell_type": "code",
      "source": [
        "# docstring meaning\n",
        "def advanced(**kwargs):\n",
        "  '''the is  a docstring format are susing python function that are using docstring foramt '''\n",
        "\n",
        "\n",
        "  return kwargs"
      ],
      "metadata": {
        "id": "BgjlFIM9leV_"
      },
      "execution_count": 140,
      "outputs": []
    },
    {
      "cell_type": "code",
      "source": [
        "advanced.__doc__"
      ],
      "metadata": {
        "colab": {
          "base_uri": "https://localhost:8080/",
          "height": 36
        },
        "id": "yVLIhLHLl8Vm",
        "outputId": "8e9003bb-ece2-4ceb-8da2-a5016a2051bf"
      },
      "execution_count": 141,
      "outputs": [
        {
          "output_type": "execute_result",
          "data": {
            "text/plain": [
              "'the is  a docstring format are susing python function that are using docstring foramt '"
            ],
            "application/vnd.google.colaboratory.intrinsic+json": {
              "type": "string"
            }
          },
          "metadata": {},
          "execution_count": 141
        }
      ]
    }
  ]
}